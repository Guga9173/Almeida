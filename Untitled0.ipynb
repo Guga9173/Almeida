{
  "nbformat": 4,
  "nbformat_minor": 0,
  "metadata": {
    "colab": {
      "provenance": [],
      "authorship_tag": "ABX9TyPcucdj2mzd20N9aC42AkHP",
      "include_colab_link": true
    },
    "kernelspec": {
      "name": "python3",
      "display_name": "Python 3"
    },
    "language_info": {
      "name": "python"
    }
  },
  "cells": [
    {
      "cell_type": "markdown",
      "metadata": {
        "id": "view-in-github",
        "colab_type": "text"
      },
      "source": [
        "<a href=\"https://colab.research.google.com/github/Guga9173/Almeida/blob/main/Untitled0.ipynb\" target=\"_parent\"><img src=\"https://colab.research.google.com/assets/colab-badge.svg\" alt=\"Open In Colab\"/></a>"
      ]
    },
    {
      "cell_type": "code",
      "execution_count": null,
      "metadata": {
        "id": "s4XRZp-iLJQ8"
      },
      "outputs": [],
      "source": [
        "print(\"I competição de programação da Start \")"
      ]
    },
    {
      "cell_type": "code",
      "source": [
        "ano= 2\n",
        "\n"
      ],
      "metadata": {
        "id": "vAinDH0wNg-x"
      },
      "execution_count": 1,
      "outputs": []
    },
    {
      "cell_type": "markdown",
      "source": [],
      "metadata": {
        "id": "TPAg7F-ZPnG_"
      }
    },
    {
      "cell_type": "code",
      "source": [],
      "metadata": {
        "id": "WoY-LjgVPmYl"
      },
      "execution_count": 1,
      "outputs": []
    },
    {
      "cell_type": "code",
      "source": [],
      "metadata": {
        "id": "n34Pj5oyPmcZ"
      },
      "execution_count": null,
      "outputs": []
    },
    {
      "cell_type": "code",
      "source": [],
      "metadata": {
        "id": "X0WpEZ8gO2rS"
      },
      "execution_count": null,
      "outputs": []
    },
    {
      "cell_type": "code",
      "source": [],
      "metadata": {
        "id": "qqyauuWmO3KB"
      },
      "execution_count": null,
      "outputs": []
    }
  ]
}