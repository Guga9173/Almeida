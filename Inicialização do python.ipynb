{
  "nbformat": 4,
  "nbformat_minor": 0,
  "metadata": {
    "colab": {
      "provenance": [],
      "authorship_tag": "ABX9TyNlCbE+0mmFnvBYRB/L3s0C",
      "include_colab_link": true
    },
    "kernelspec": {
      "name": "python3",
      "display_name": "Python 3"
    },
    "language_info": {
      "name": "python"
    }
  },
  "cells": [
    {
      "cell_type": "markdown",
      "metadata": {
        "id": "view-in-github",
        "colab_type": "text"
      },
      "source": [
        "<a href=\"https://colab.research.google.com/github/Guga9173/Almeida/blob/main/Inicializa%C3%A7%C3%A3o%20do%20python.ipynb\" target=\"_parent\"><img src=\"https://colab.research.google.com/assets/colab-badge.svg\" alt=\"Open In Colab\"/></a>"
      ]
    },
    {
      "cell_type": "code",
      "execution_count": 1,
      "metadata": {
        "colab": {
          "base_uri": "https://localhost:8080/"
        },
        "id": "P9yogRGtgXId",
        "outputId": "2a396e39-9063-4f6d-a6f6-b4fabda2d883"
      },
      "outputs": [
        {
          "output_type": "stream",
          "name": "stdout",
          "text": [
            "Primeira competição de programação dá start\n"
          ]
        }
      ],
      "source": [
        "print(\"Primeira competição de programação dá start\");"
      ]
    },
    {
      "cell_type": "code",
      "source": [
        "ano = \"II\""
      ],
      "metadata": {
        "id": "4GVVGRN_iFXo"
      },
      "execution_count": 2,
      "outputs": []
    },
    {
      "cell_type": "code",
      "source": [
        "print(ano, \"Competição de programação da estática\")"
      ],
      "metadata": {
        "colab": {
          "base_uri": "https://localhost:8080/"
        },
        "id": "5I51BJbziFaX",
        "outputId": "e2dc8d73-4f80-416b-fbc8-b9214abe2a59"
      },
      "execution_count": 3,
      "outputs": [
        {
          "output_type": "stream",
          "name": "stdout",
          "text": [
            "II Competição de programação da estática\n"
          ]
        }
      ]
    },
    {
      "cell_type": "code",
      "source": [
        "print(f\"{ano} Competição de programação da start\")"
      ],
      "metadata": {
        "colab": {
          "base_uri": "https://localhost:8080/"
        },
        "id": "LiSiGKeJiFc0",
        "outputId": "8ca7760c-4d99-4e85-e719-4cad646da09e"
      },
      "execution_count": 4,
      "outputs": [
        {
          "output_type": "stream",
          "name": "stdout",
          "text": [
            "II Competição de programação da start\n"
          ]
        }
      ]
    },
    {
      "cell_type": "code",
      "source": [
        "livro_ficcao = 10\n",
        "livro_nficcao = 8\n",
        "livro_infantil = 6\n",
        "pontos_rodrigo = livro_ficcao + livro_nficcao + livro_infantil\n",
        "print(pontos_rodrigo)\n",
        "print(f\"Os pontos totais do Rodrigo são {pontos_rodrigo}\")\n"
      ],
      "metadata": {
        "colab": {
          "base_uri": "https://localhost:8080/"
        },
        "id": "GTJs1yPiiFfc",
        "outputId": "40b44231-2581-4825-88a0-deaba916b307"
      },
      "execution_count": 10,
      "outputs": [
        {
          "output_type": "stream",
          "name": "stdout",
          "text": [
            "24\n",
            "Os pontos totais do Rodrigo são 24\n"
          ]
        }
      ]
    },
    {
      "cell_type": "code",
      "source": [
        "total_de_figurinhas = int(input(\"Digite o total de figurinhas: \"))\n",
        "numero_de_amigos = int(input(\"Digite o número de amigos: \"))\n",
        "\n",
        "figurinhas_amigos = total_de_figurinhas // (numero_de_amigos + 2)\n",
        "figurinhas_joao = 2 * figurinhas_amigos\n",
        "\n",
        "print(\"João recebeu\", figurinhas_joao, \"figurinhas\")"
      ],
      "metadata": {
        "id": "q7GEhkrkiFiF"
      },
      "execution_count": null,
      "outputs": []
    },
    {
      "cell_type": "code",
      "source": [],
      "metadata": {
        "id": "fgAidYzuiFkc"
      },
      "execution_count": null,
      "outputs": []
    }
  ]
}